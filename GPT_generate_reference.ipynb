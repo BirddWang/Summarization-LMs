{
 "cells": [
  {
   "cell_type": "code",
   "execution_count": 1,
   "metadata": {},
   "outputs": [],
   "source": [
    "from openai import OpenAI\n",
    "import os\n",
    "import json\n",
    "import time\n",
    "\n",
    "from secret import API_KEY\n",
    "client = OpenAI(api_key=API_KEY)"
   ]
  },
  {
   "cell_type": "code",
   "execution_count": 2,
   "metadata": {},
   "outputs": [],
   "source": [
    "def call_api_summarize(article, mname:str = 'gpt-3.5-turbo', eval_max_tokens:int = 128):\n",
    "    prompt = f\"Summarize the following article within 3 sentences: \\n\\n{article}\"\n",
    "    msg = [\n",
    "        {\"role\": \"user\", \"content\": prompt}\n",
    "    ]\n",
    "    try:\n",
    "        response = client.chat.completions.create(\n",
    "            model = mname,\n",
    "            messages=msg,\n",
    "            temperature=0,\n",
    "            max_tokens=eval_max_tokens\n",
    "        )\n",
    "    except Exception as e:\n",
    "        print(\"openai experiencing high volume, wait 10s to retry for 1st time...\")\n",
    "        time.sleep(10)\n",
    "        try:\n",
    "            response = client.chat.completions.create(\n",
    "                model = mname,\n",
    "                messages=msg,\n",
    "                temperature=0,\n",
    "                max_tokens=eval_max_tokens\n",
    "            )\n",
    "        except Exception as e:\n",
    "            print(\"openai experiencing high volume, wait 20s to retry for 2nd time...\")\n",
    "            time.sleep(20)\n",
    "            response = client.chat.completions.create(\n",
    "                model = mname,\n",
    "                messages=msg,\n",
    "                temperature=0,\n",
    "                max_tokens=eval_max_tokens\n",
    "            )\n",
    "    model_resp = response.choices[0].message.content\n",
    "    prompt_len = response.usage.prompt_tokens\n",
    "    total_len = response.usage.total_tokens\n",
    "    print(model_resp)\n",
    "    return (model_resp, prompt_len, total_len)\n",
    "    "
   ]
  },
  {
   "cell_type": "code",
   "execution_count": 3,
   "metadata": {},
   "outputs": [],
   "source": [
    "# constant\n",
    "fdir = 'data'\n",
    "model_name = 'gpt-3.5-turbo'\n",
    "max_tokens = 128\n"
   ]
  },
  {
   "cell_type": "code",
   "execution_count": 4,
   "metadata": {},
   "outputs": [],
   "source": [
    "#build the json to store article and gpt-generated summary\n",
    "def build_json(id:int, article:str, reference:str, prompt_len:int, total_len:int):\n",
    "    data = {\n",
    "        \"id\": id,\n",
    "        \"article\": article,\n",
    "        \"reference\": reference,\n",
    "        \"prompt_len\": prompt_len,\n",
    "        \"total_len\": total_len\n",
    "    }\n",
    "    return data"
   ]
  },
  {
   "cell_type": "code",
   "execution_count": 5,
   "metadata": {},
   "outputs": [],
   "source": [
    "from datasets import load_dataset\n",
    "dataset = load_dataset(\"cnn_dailymail\", \"3.0.0\")"
   ]
  },
  {
   "cell_type": "code",
   "execution_count": 19,
   "metadata": {},
   "outputs": [
    {
     "name": "stdout",
     "output_type": "stream",
     "text": [
      "Daniel Radcliffe gains access to a £20 million fortune as he turns 18, but he insists he won't be extravagant with his money. Despite his growing fame and riches, Radcliffe plans to keep his feet firmly on the ground and avoid going off the rails. He has upcoming projects beyond the Harry Potter series, including a TV movie and an Australian film.\n",
      "CNN correspondent Soledad O'Brien takes readers inside a Miami jail where mentally ill inmates are housed on the \"forgotten floor\" before trial, often facing avoidable felonies. Judge Steven Leifman advocates for change, aiming to move mentally ill inmates to a new mental health facility for long-term treatment instead of cycling them through the jail system repeatedly. Leifman believes this solution is a win-win, benefiting the patients, their families, and saving the state money.\n",
      "Drivers who were on the Minneapolis bridge when it collapsed described harrowing tales of survival, with one survivor helping to rescue children from a school bus that was on the bridge. Emergency room physician Dr. John Hink rushed to the scene to help, and volunteers, EMTs, and officials worked together to rescue 55 people in less than two hours. Survivors described feeling like they were going to die as the bridge collapsed, with one man's truck getting ripped in half but miraculously surviving.\n"
     ]
    }
   ],
   "source": [
    "for i in range(3):\n",
    "    article = dataset['train'][i]['article']\n",
    "    reference, prompt_len, total_len = call_api_summarize(article, model_name, max_tokens)\n",
    "    id = dataset['train'][i]['id']\n",
    "    obj = build_json(id=id, article=article, reference=reference, prompt_len=prompt_len, total_len=total_len)\n",
    "    with open(f'{fdir}/cnndm_test.jsonl', 'a') as f:\n",
    "        f.write(json.dumps(obj))\n",
    "        f.write('\\n')"
   ]
  },
  {
   "cell_type": "code",
   "execution_count": 7,
   "metadata": {},
   "outputs": [],
   "source": [
    "with open(f'{fdir}/cnndm_test.json', 'r') as f:\n",
    "    data=json.load(f)"
   ]
  },
  {
   "cell_type": "code",
   "execution_count": 11,
   "metadata": {},
   "outputs": [
    {
     "data": {
      "text/plain": [
       "'An empty rocket launcher tube was found on the front lawn of a Jersey City home, prompting an investigation by police and FBI agents. The launcher, a 20-year-old AT4 anti-tank rocket launcher tube, was turned over to U.S. Army officials and deemed not a hazard to public safety. The origin of the launcher and the circumstances surrounding its appearance on residential property are being investigated by the Joint Terrorism Task Force division of the FBI and Jersey City police.'"
      ]
     },
     "execution_count": 11,
     "metadata": {},
     "output_type": "execute_result"
    }
   ],
   "source": [
    "data['reference']"
   ]
  },
  {
   "cell_type": "code",
   "execution_count": null,
   "metadata": {},
   "outputs": [],
   "source": []
  }
 ],
 "metadata": {
  "kernelspec": {
   "display_name": "Python 3",
   "language": "python",
   "name": "python3"
  },
  "language_info": {
   "codemirror_mode": {
    "name": "ipython",
    "version": 3
   },
   "file_extension": ".py",
   "mimetype": "text/x-python",
   "name": "python",
   "nbconvert_exporter": "python",
   "pygments_lexer": "ipython3",
   "version": "3.10.12"
  }
 },
 "nbformat": 4,
 "nbformat_minor": 2
}
