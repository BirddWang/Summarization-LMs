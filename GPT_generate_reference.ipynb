{
 "cells": [
  {
   "cell_type": "code",
   "execution_count": 1,
   "metadata": {},
   "outputs": [],
   "source": [
    "from openai import OpenAI\n",
    "import os\n",
    "import json\n",
    "import time\n",
    "\n",
    "from secret import API_KEY\n",
    "client = OpenAI(api_key=API_KEY)"
   ]
  },
  {
   "cell_type": "code",
   "execution_count": 2,
   "metadata": {},
   "outputs": [],
   "source": [
    "def call_api_summarize(article, summary, mname:str = 'gpt-3.5-turbo', eval_max_tokens:int = 128):\n",
    "    # I will give article and summary, and the function will return the fixed summary\n",
    "    prompt = f\"Article: {article}\\n Summary: {summary}\\n Above are the article and its summary. Please fix the summary to make it more accurate and concise.\"\n",
    "    msg = [\n",
    "        {\"role\": \"user\", \"content\": prompt}\n",
    "    ]\n",
    "    try:\n",
    "        response = client.chat.completions.create(\n",
    "            model = mname,\n",
    "            messages=msg,\n",
    "            temperature=0,\n",
    "            max_tokens=eval_max_tokens\n",
    "        )\n",
    "    except Exception as e:\n",
    "        print(\"openai experiencing high volume, wait 10s to retry for 1st time...\")\n",
    "        time.sleep(10)\n",
    "        try:\n",
    "            response = client.chat.completions.create(\n",
    "                model = mname,\n",
    "                messages=msg,\n",
    "                temperature=0,\n",
    "                max_tokens=eval_max_tokens\n",
    "            )\n",
    "        except Exception as e:\n",
    "            print(\"openai experiencing high volume, wait 20s to retry for 2nd time...\")\n",
    "            time.sleep(20)\n",
    "            response = client.chat.completions.create(\n",
    "                model = mname,\n",
    "                messages=msg,\n",
    "                temperature=0,\n",
    "                max_tokens=eval_max_tokens\n",
    "            )\n",
    "    model_resp = response.choices[0].message.content\n",
    "    prompt_len = response.usage.prompt_tokens\n",
    "    total_len = response.usage.total_tokens\n",
    "    print(model_resp)\n",
    "    return (model_resp, prompt_len, total_len)\n",
    "    "
   ]
  },
  {
   "cell_type": "code",
   "execution_count": 24,
   "metadata": {},
   "outputs": [],
   "source": [
    "def make_adjust_summarization(article:str, candidates, mname:str, max_tokens:int):\n",
    "    adj_candidates = []\n",
    "    for cand in candidates:\n",
    "        (model_resp, _, _) = call_api_summarize(article, cand, mname, max_tokens)\n",
    "        adj_candidates.append(model_resp)\n",
    "    return adj_candidates"
   ]
  },
  {
   "cell_type": "code",
   "execution_count": null,
   "metadata": {},
   "outputs": [],
   "source": []
  }
 ],
 "metadata": {
  "kernelspec": {
   "display_name": "Python 3",
   "language": "python",
   "name": "python3"
  },
  "language_info": {
   "codemirror_mode": {
    "name": "ipython",
    "version": 3
   },
   "file_extension": ".py",
   "mimetype": "text/x-python",
   "name": "python",
   "nbconvert_exporter": "python",
   "pygments_lexer": "ipython3",
   "version": "3.10.12"
  }
 },
 "nbformat": 4,
 "nbformat_minor": 2
}
