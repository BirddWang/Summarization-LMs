{
 "cells": [
  {
   "cell_type": "code",
   "execution_count": 1,
   "metadata": {},
   "outputs": [],
   "source": [
    "from datasets import load_dataset\n",
    "from torch.utils.data import DataLoader, Dataset\n",
    "from transformers import BartTokenizer, BartForConditionalGeneration\n",
    "\n",
    "\n",
    "import torch\n",
    "import torch.nn.functional as F\n",
    "import torch.optim as optim\n",
    "import torch.nn as nn\n",
    "\n",
    "from tqdm import tqdm\n",
    "import numpy as np\n",
    "import os\n",
    "\n",
    "# Define the device\n",
    "device = torch.device('cuda' if torch.cuda.is_available() else 'cpu')"
   ]
  },
  {
   "cell_type": "code",
   "execution_count": 2,
   "metadata": {},
   "outputs": [],
   "source": [
    "class CNNDMDataset(Dataset):\n",
    "    def __init__(self, type:str, max_len:int=1024, data_len:int=1000):\n",
    "        #input type [article, highlights, id]\n",
    "        super().__init__()\n",
    "        self.data = load_dataset('cnn_dailymail', '3.0.0')[type][:data_len]\n",
    "        self.tok = BartTokenizer.from_pretrained('facebook/bart-large-cnn')\n",
    "        self.max_len = max_len\n",
    "        self.data_len = data_len\n",
    "\n",
    "    def __len__(self):\n",
    "        return self.data_len\n",
    "    \n",
    "    def __getitem__(self, idx):\n",
    "        \n",
    "        src = self.tok.encode_plus([self.data['article'][idx]], max_length=self.max_len, return_tensors='pt', truncation=True, pad_to_max_length=False)\n",
    "        tgt = self.tok.encode_plus([self.data['highlights'][idx]], max_length=self.max_len, return_tensors='pt', truncation=True, pad_to_max_length=False)\n",
    "        src_input_ids = src['input_ids'].squeeze()\n",
    "        tgt_input_ids = tgt['input_ids'].squeeze()\n",
    "        result = {\n",
    "            'src_input_ids': src_input_ids,\n",
    "            'tgt_input_ids': tgt_input_ids\n",
    "        }\n",
    "        return result"
   ]
  },
  {
   "cell_type": "code",
   "execution_count": 3,
   "metadata": {},
   "outputs": [],
   "source": [
    "def cnndm_collate_fn(batch):\n",
    "    def pad(X, max_len=-1):\n",
    "        #[input_ids, attention_mask]\n",
    "        if max_len < 0:\n",
    "            max_len = max(x.size(0) for x in X)\n",
    "        result = torch.ones(len(X), max_len, dtype=X[0].dtype) * BartTokenizer.from_pretrained('facebook/bart-large-cnn').pad_token_id\n",
    "        for (i, x) in enumerate(X):\n",
    "            result[0, :x.size(0)] = x\n",
    "        return result\n",
    "    \n",
    "    src_input_ids = pad([x['src_input_ids'] for x in batch])\n",
    "    tgt_input_ids = pad([x['tgt_input_ids'] for x in batch])\n",
    "    result = {\n",
    "        'src_input_ids': src_input_ids,\n",
    "        'tgt_input_ids': tgt_input_ids\n",
    "    }\n",
    "    return result"
   ]
  },
  {
   "cell_type": "code",
   "execution_count": 4,
   "metadata": {},
   "outputs": [],
   "source": [
    "train_dataset = CNNDMDataset('train', data_len=1000)\n",
    "val_dataset = CNNDMDataset('validation', data_len=1000)"
   ]
  },
  {
   "cell_type": "code",
   "execution_count": 5,
   "metadata": {},
   "outputs": [],
   "source": [
    "train_loader = DataLoader(train_dataset, batch_size=8, shuffle=True, collate_fn=cnndm_collate_fn)\n",
    "val_loader = DataLoader(val_dataset, batch_size=8, shuffle=False, collate_fn=cnndm_collate_fn)"
   ]
  },
  {
   "cell_type": "code",
   "execution_count": 6,
   "metadata": {},
   "outputs": [],
   "source": [
    "# Load the pre-trained model\n",
    "model = BartForConditionalGeneration.from_pretrained('facebook/bart-large-cnn')"
   ]
  },
  {
   "cell_type": "code",
   "execution_count": 7,
   "metadata": {},
   "outputs": [
    {
     "data": {
      "text/plain": [
       "'\\nmodel.to(device)\\ncriterion = torch.nn.CrossEntropyLoss()\\nfor i, batch in enumerate(train_loader):\\n    src_input_ids = batch[\\'src_input_ids\\'].to(device)\\n    tgt_input_ids = batch[\\'tgt_input_ids\\'].to(device)\\n    outputs = model(input_ids=src_input_ids, decoder_input_ids=tgt_input_ids)\\n    outputs = outputs[0] #[bsz, seq_len, vocab_size]\\n    outputs = F.log_softmax(outputs, dim=-1)\\n    loss = criterion(outputs.view(-1, outputs.size(-1)), tgt_input_ids.view(-1))\\n    print(\"Loss: \", loss)\\n    del src_input_ids, tgt_input_ids, outputs, loss\\n    break\\n'"
      ]
     },
     "execution_count": 7,
     "metadata": {},
     "output_type": "execute_result"
    }
   ],
   "source": [
    "\"\"\"\n",
    "model.to(device)\n",
    "criterion = torch.nn.CrossEntropyLoss()\n",
    "for i, batch in enumerate(train_loader):\n",
    "    src_input_ids = batch['src_input_ids'].to(device)\n",
    "    tgt_input_ids = batch['tgt_input_ids'].to(device)\n",
    "    outputs = model(input_ids=src_input_ids, decoder_input_ids=tgt_input_ids)\n",
    "    outputs = outputs[0] #[bsz, seq_len, vocab_size]\n",
    "    outputs = F.log_softmax(outputs, dim=-1)\n",
    "    loss = criterion(outputs.view(-1, outputs.size(-1)), tgt_input_ids.view(-1))\n",
    "    print(\"Loss: \", loss)\n",
    "    del src_input_ids, tgt_input_ids, outputs, loss\n",
    "    break\n",
    "\"\"\""
   ]
  },
  {
   "cell_type": "code",
   "execution_count": 8,
   "metadata": {},
   "outputs": [],
   "source": [
    "def run(is_accumulate=False, accumulate_step=10):\n",
    "    epochs = 3\n",
    "    accumulate_cnt = 0\n",
    "    \n",
    "    loss_fn = nn.CrossEntropyLoss()\n",
    "    optimizer = torch.optim.Adam(model.parameters(), lr=1e-5)\n",
    "\n",
    "    model.to(device)\n",
    "    for epoch in range(epochs):\n",
    "        model.train()\n",
    "        optimizer.zero_grad()\n",
    "        for i, batch in enumerate(train_loader):\n",
    "            \n",
    "            input_ids = batch['src_input_ids'].to(device)\n",
    "            tgt_ids = batch['tgt_input_ids'].to(device)\n",
    "            outputs = model(input_ids=input_ids, decoder_input_ids=tgt_ids)\n",
    "            outputs = outputs[0]\n",
    "            outputs = F.log_softmax(outputs, dim=-1)\n",
    "            outputs = outputs.view(-1, outputs.size(-1))\n",
    "            loss = loss_fn(outputs, tgt_ids.view(-1))\n",
    "            loss.backward()\n",
    "\n",
    "            if is_accumulate:\n",
    "                accumulate_cnt += 1\n",
    "                if accumulate_cnt % accumulate_step == 0:\n",
    "                    optimizer.step()\n",
    "                    optimizer.zero_grad()\n",
    "                    accumulate_cnt = 0\n",
    "            else:\n",
    "                optimizer.step()\n",
    "                optimizer.zero_grad()\n",
    "\n",
    "            if i % 50 == 0:\n",
    "                print(f'Epoch: {epoch}, Loss:  {loss.item()}')\n",
    "            del input_ids, tgt_ids, outputs, loss\n",
    "            torch.cuda.empty_cache()\n",
    "\n",
    "        model.eval()\n",
    "        with torch.no_grad():\n",
    "            LOSS = 0\n",
    "            for (i, batch) in enumerate(val_loader):\n",
    "                val_input_ids = batch['src_input_ids'].to(device)\n",
    "                val_tgt_ids = batch['tgt_input_ids'].to(device)\n",
    "                outputs = model(val_input_ids, decoder_input_ids=val_tgt_ids)\n",
    "                outputs = outputs[0]\n",
    "                outputs = F.log_softmax(outputs, dim=-1)\n",
    "                outputs = outputs.view(-1, outputs.size(-1))\n",
    "                loss = loss_fn(outputs, val_tgt_ids.view(-1))\n",
    "                LOSS += loss.item()\n",
    "                del val_input_ids, val_tgt_ids, outputs, loss\n",
    "                torch.cuda.empty_cache()\n",
    "\n",
    "            print(f'Epoch: {epoch}, Val Loss:  {LOSS/len(val_loader)}')"
   ]
  },
  {
   "cell_type": "code",
   "execution_count": 9,
   "metadata": {},
   "outputs": [
    {
     "name": "stdout",
     "output_type": "stream",
     "text": [
      "Epoch: 0, Loss:  12.131403923034668\n",
      "Epoch: 0, Val Loss:  5.922112941741943\n",
      "Epoch: 1, Loss:  6.441112995147705\n",
      "Epoch: 1, Val Loss:  1.1850165128707886\n",
      "Epoch: 2, Loss:  1.9356474876403809\n",
      "Epoch: 2, Val Loss:  0.2954336404800415\n"
     ]
    }
   ],
   "source": [
    "run()"
   ]
  },
  {
   "cell_type": "code",
   "execution_count": 11,
   "metadata": {},
   "outputs": [],
   "source": [
    "dataset = load_dataset('cnn_dailymail', '3.0.0')\n",
    "test_data = dataset['test']['article'][0]\n",
    "tok = BartTokenizer.from_pretrained('facebook/bart-large-cnn')\n",
    "test_data = tok(test_data, return_tensors='pt', max_length=1024, truncation=True).to(device)\n",
    "summary = model.generate(test_data[\"input_ids\"], max_length=100, num_beams=4, early_stopping=True)"
   ]
  },
  {
   "cell_type": "code",
   "execution_count": 13,
   "metadata": {},
   "outputs": [
    {
     "data": {
      "text/plain": [
       "\" Palestinian Foreign Minister Riad al-Malki says move is move toward greater justice. The ICC opened a preliminary examination into the situation in Palestinian territories in January. The inquiry will include alleged war crimes committed since June. Israel and the United States opposed the Palestinians' efforts to join the body.\""
      ]
     },
     "execution_count": 13,
     "metadata": {},
     "output_type": "execute_result"
    }
   ],
   "source": [
    "summary.to('cpu')\n",
    "summary = tok.decode(summary[0], skip_special_tokens=True)\n",
    "summary"
   ]
  },
  {
   "cell_type": "code",
   "execution_count": null,
   "metadata": {},
   "outputs": [],
   "source": []
  }
 ],
 "metadata": {
  "kernelspec": {
   "display_name": "Python 3",
   "language": "python",
   "name": "python3"
  },
  "language_info": {
   "codemirror_mode": {
    "name": "ipython",
    "version": 3
   },
   "file_extension": ".py",
   "mimetype": "text/x-python",
   "name": "python",
   "nbconvert_exporter": "python",
   "pygments_lexer": "ipython3",
   "version": "3.10.12"
  }
 },
 "nbformat": 4,
 "nbformat_minor": 2
}
