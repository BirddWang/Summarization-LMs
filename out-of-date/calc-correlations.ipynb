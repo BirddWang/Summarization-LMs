{
 "cells": [
  {
   "cell_type": "code",
   "execution_count": 2,
   "metadata": {},
   "outputs": [],
   "source": [
    "import json\n",
    "import pandas as pd\n",
    "from scipy.stats import spearmanr, kendalltau"
   ]
  },
  {
   "cell_type": "code",
   "execution_count": 3,
   "metadata": {},
   "outputs": [],
   "source": [
    "def load_jsonl(filename):\n",
    "    data = []\n",
    "    with open(filename, 'r') as f:\n",
    "        for line in f:\n",
    "            data.append(json.loads(line))\n",
    "    return data"
   ]
  },
  {
   "cell_type": "code",
   "execution_count": 4,
   "metadata": {},
   "outputs": [],
   "source": [
    "g_eval_data = load_jsonl(\"data/summeval-geval.jsonl\")\n",
    "human_annotations = load_jsonl(\"data/model_annotations.aligned.scored.jsonl\")"
   ]
  },
  {
   "cell_type": "code",
   "execution_count": 5,
   "metadata": {},
   "outputs": [],
   "source": [
    "g_eval_data = [item[\"score\"] for item in g_eval_data]"
   ]
  },
  {
   "cell_type": "code",
   "execution_count": 6,
   "metadata": {},
   "outputs": [],
   "source": [
    "expert_annotations = [item[\"expert_annotations\"] for item in human_annotations]\n",
    "expert_1 = [item[0]['consistency'] for item in expert_annotations]\n",
    "expert_2 = [item[1]['consistency'] for item in expert_annotations]\n",
    "expert_3 = [item[2]['consistency'] for item in expert_annotations]"
   ]
  },
  {
   "cell_type": "code",
   "execution_count": 10,
   "metadata": {},
   "outputs": [],
   "source": [
    "# calc correlation between g_eval and expert_consistency\n",
    "spearman_correlation_1, _ = spearmanr(g_eval_data, expert_1[:100])\n",
    "kendall_correlation_1, _ = kendalltau(g_eval_data, expert_1[:100])\n",
    "spearman_correlation_2, _ = spearmanr(g_eval_data, expert_2[:100])\n",
    "kendall_correlation_2, _ = kendalltau(g_eval_data, expert_2[:100])\n",
    "spearman_correlation_3, _ = spearmanr(g_eval_data, expert_3[:100])\n",
    "kendall_correlation_3, _ = kendalltau(g_eval_data, expert_3[:100])"
   ]
  },
  {
   "cell_type": "code",
   "execution_count": 11,
   "metadata": {},
   "outputs": [
    {
     "name": "stdout",
     "output_type": "stream",
     "text": [
      "Spearman correlation:  0.403900785363422 0.3017955814137695 0.3510348535261089\n",
      "Kendall correlation:  0.3263414327216692 0.24351436749049796 0.2844772228490715\n"
     ]
    }
   ],
   "source": [
    "print(\"Spearman correlation: \", spearman_correlation_1, spearman_correlation_2, spearman_correlation_3)\n",
    "print(\"Kendall correlation: \", kendall_correlation_1, kendall_correlation_2, kendall_correlation_3)"
   ]
  },
  {
   "cell_type": "markdown",
   "metadata": {},
   "source": [
    "Not sure the low correlation is caused by low data or the problem of gpt-4o"
   ]
  },
  {
   "cell_type": "markdown",
   "metadata": {},
   "source": []
  }
 ],
 "metadata": {
  "kernelspec": {
   "display_name": "Python 3",
   "language": "python",
   "name": "python3"
  },
  "language_info": {
   "codemirror_mode": {
    "name": "ipython",
    "version": 3
   },
   "file_extension": ".py",
   "mimetype": "text/x-python",
   "name": "python",
   "nbconvert_exporter": "python",
   "pygments_lexer": "ipython3",
   "version": "3.10.12"
  }
 },
 "nbformat": 4,
 "nbformat_minor": 2
}
