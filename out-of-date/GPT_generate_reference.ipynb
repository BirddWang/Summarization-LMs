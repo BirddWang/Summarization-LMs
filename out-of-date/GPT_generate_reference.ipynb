{
 "cells": [
  {
   "cell_type": "code",
   "execution_count": 15,
   "metadata": {},
   "outputs": [],
   "source": [
    "from openai import OpenAI\n",
    "import os\n",
    "import json\n",
    "import time\n",
    "\n",
    "from secret import OPENAI_API_KEY\n",
    "client = OpenAI(api_key=OPENAI_API_KEY)"
   ]
  },
  {
   "cell_type": "code",
   "execution_count": 16,
   "metadata": {},
   "outputs": [],
   "source": [
    "COT_PREFIX = \"Given a document and its ground-truth summary, do the following tasks:\\n(1) According to the ground-truth summary, extract essential aspects of the document.\\n(2) For each essential aspect, retrieve detailed triples in the format [ENTITY1 | RELATION | ENTITY2] used to compose the ground-truth summary.\\n(3) With the retrieved triples, compose a summary. The essential aspects, triples, and composed summary should be in the same response, separated by a new line.\\n\\nAll triples [ENTITY1 | RELATION | ENTITY2] should be in length 3 (separated by \\\"|\\\").\\n\\n\"\n",
    "EXAMPLE_PROMPT = \"Example:\\n================Example=================\\nPrompt:\\n[Document]: [document]\\n[Ground-truth Summary]: [ground-truth summary]\\nUpdate:\\nEssential Aspects:\\n[aspects]\\nTriples:\\n- [ENTITY1_1 | RELATION_1 | ENTITY1_2]\\n- [ENTITY2_1 | RELATION_2 | ENTITY2_2]\\n- [ENTITY3_1 | RELATION_3 | ENTITY3_2]\\n- ...\\nGenerated Summary:\\n[summary]\\n========================================\\n\\n\""
   ]
  },
  {
   "cell_type": "markdown",
   "metadata": {},
   "source": [
    "Entity like a point in the graph, and the event is the directed line between the points."
   ]
  },
  {
   "cell_type": "code",
   "execution_count": 2,
   "metadata": {},
   "outputs": [],
   "source": [
    "CoT_SUMMARY_PREFIX = \"\"\"Given a document, do the following tasks:\n",
    "(1) According to the document, find the essential entities.\n",
    "(2) For each entities, extract essential relevance to another entities in the format [TARGET_ENTITY | {EVENT1 | ENTITY1}, {EVENT2 | ENTITY2}, ...]\n",
    "(3) Review the document, extract the 5 most important triples in the format [ENTITY1 | RELATION | ENTITY2] for ready to compose a summary.\n",
    "(4) With the retrieved triples, compose a summary in 3 sentences.\n",
    "\n",
    "Example: \n",
    "================Example=================\n",
    "Prompt:\n",
    "Document: [document]\n",
    "Update:\n",
    "Essential Relevance:\n",
    "- [TARGET_ENTITY | {EVENT1 | ENTITY1}, {EVENT2 | ENTITY2}, ...]\n",
    "- [TARGET_ENTITY | {EVENT1 | ENTITY1}, {EVENT2 | ENTITY2}, ...]\n",
    "- ...\n",
    "\n",
    "Triples:\n",
    "- [ENTITY1_1 | RELATION | ENTITY1_2]\n",
    "- [ENTITY2_1 | RELATION | ENTITY2_2]\n",
    "- ...\n",
    "\n",
    "Generated Summary:\n",
    "[summary]\n",
    "========================================\n",
    "\"\"\""
   ]
  },
  {
   "cell_type": "code",
   "execution_count": 17,
   "metadata": {},
   "outputs": [],
   "source": [
    "def _distill_gpt(document, g_summary, mname=\"gpt-3.5-turbo\", max_token=256, temperature=0):\n",
    "    prompt = f\"{COT_PREFIX}\\n{EXAMPLE_PROMPT}Prompt:\\n[Document]: {document}\\n[Ground-truth Summary]: {g_summary}\\n\\n Update:\" \n",
    "    \n",
    "    response = client.chat.completions.create(\n",
    "        model=mname,\n",
    "        messages = [\n",
    "            {\"role\": \"user\", \"content\": prompt}\n",
    "        ],\n",
    "        temperature=temperature,\n",
    "        max_tokens=max_token,\n",
    "    )\n",
    "    return response.choices[0].message.content"
   ]
  },
  {
   "cell_type": "code",
   "execution_count": null,
   "metadata": {},
   "outputs": [],
   "source": [
    "with open(\"data/cnndm_sumllm/gpt4/train.jsonl\") as f:\n",
    "    data = [json.loads(line) for line in f.readlines()]\n",
    "    document = data[0][\"article\"]\n",
    "    summary = data[0][\"abstract\"]\n",
    "    response = _distill_gpt(document, summary)\n",
    "    print(response)"
   ]
  },
  {
   "cell_type": "code",
   "execution_count": 38,
   "metadata": {},
   "outputs": [
    {
     "name": "stdout",
     "output_type": "stream",
     "text": [
      "[['Tom Daley', 'had', 'disappointing outing'], ['Tom Daley', 'failed to qualify for', 'final'], ['Tom Daley', 'scored', \"54 for 'firework' dive routine\"], ['Jiang Yang', 'claimed', 'first place'], ['Tonia Couch', 'placed', \"fourth in 10m women's platform\"], ['Sarah Barrow', 'came in', \"sixth in 10m women's platform\"]]\n"
     ]
    }
   ],
   "source": [
    "res = response\n",
    "Aspects = res.split(\"Essential Aspects:\")[1].split(\"Triples:\")[0].strip()\n",
    "aspects = []\n",
    "for line in Aspects.split(\"\\n\"):\n",
    "    line = line[2:]\n",
    "    aspects.append(line)\n",
    "\n",
    "Triples = res.split(\"Triples:\")[1].split(\"Generated Summary:\")[0].strip()\n",
    "triples = []\n",
    "for line in Triples.split(\"\\n\"):\n",
    "    line = line[2:]\n",
    "    tri = line.split(\" | \")\n",
    "    triples.append(tri)\n",
    "\n",
    "rationale = []\n",
    "for (a, tri) in zip(aspects, triples):\n",
    "    rationale.append({\"aspect\": a, \"triples\": tri})\n",
    "\n",
    "summary = res.split(\"Generated Summary:\")[1].strip()"
   ]
  },
  {
   "cell_type": "code",
   "execution_count": 43,
   "metadata": {},
   "outputs": [],
   "source": [
    "def _extract_gpt_response(response: str): \n",
    "    res = response\n",
    "    aspects.append([x[2:] for x in res.split(\"Essential Aspects:\")[1].split(\"Triples:\")[0].strip().split(\"\\n\")])\n",
    "    triples.append([x[2:] for x in res.split(\"Triples:\")[1].split(\"Generated Summary:\")[0].strip().split(\"\\n\")])\n",
    "    # rationale.append([a+tri for (a, tri) in zip(aspects, triples)])\n",
    "    summary = res.split(\"Generated Summary:\")[1].strip()\n",
    "\n",
    "    return {\n",
    "        \"aspects\": aspects, # \"aspects\": [\"aspect1\", \"aspect2\", ...]\n",
    "        \"triples\": triples, # \"triples\": [[\"entity1\", \"relation1\", \"entity2\"], [\"entity1\", \"relation1\", \"entity2\"], ...]\n",
    "        # \"rationale\": rationale,\n",
    "        \"summary\": summary\n",
    "    }"
   ]
  },
  {
   "cell_type": "code",
   "execution_count": null,
   "metadata": {},
   "outputs": [],
   "source": [
    "_extract_gpt_response(response)"
   ]
  },
  {
   "cell_type": "code",
   "execution_count": null,
   "metadata": {},
   "outputs": [],
   "source": []
  }
 ],
 "metadata": {
  "kernelspec": {
   "display_name": "Python 3",
   "language": "python",
   "name": "python3"
  },
  "language_info": {
   "codemirror_mode": {
    "name": "ipython",
    "version": 3
   },
   "file_extension": ".py",
   "mimetype": "text/x-python",
   "name": "python",
   "nbconvert_exporter": "python",
   "pygments_lexer": "ipython3",
   "version": "3.10.12"
  }
 },
 "nbformat": 4,
 "nbformat_minor": 2
}
