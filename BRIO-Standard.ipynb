{
 "cells": [
  {
   "cell_type": "code",
   "execution_count": 1,
   "metadata": {},
   "outputs": [],
   "source": [
    "from datasets import load_dataset\n",
    "from torch.utils.data import DataLoader, Dataset\n",
    "from transformers import BartTokenizer, BartForConditionalGeneration\n",
    "\n",
    "\n",
    "import torch\n",
    "import torch.nn.functional as F\n",
    "import torch.optim as optim\n",
    "import torch.nn as nn\n",
    "\n",
    "from tqdm import tqdm\n",
    "import numpy as np\n",
    "import os\n",
    "\n",
    "# Define the device\n",
    "device = torch.device('cuda' if torch.cuda.is_available() else 'cpu')"
   ]
  },
  {
   "cell_type": "code",
   "execution_count": 2,
   "metadata": {},
   "outputs": [],
   "source": [
    "tok = BartTokenizer.from_pretrained('facebook/bart-base')"
   ]
  },
  {
   "cell_type": "code",
   "execution_count": 3,
   "metadata": {},
   "outputs": [],
   "source": [
    "from BRIO.data_utils import BrioDataset, collate_mp_brio\n",
    "from functools import partial"
   ]
  },
  {
   "cell_type": "code",
   "execution_count": 4,
   "metadata": {},
   "outputs": [],
   "source": [
    "train_set = BrioDataset(fdir='data/cnndm/diverse/train', model_type='facebook/bart-base', max_len=120, total_len=1024, max_num = 2)\n",
    "val_set   = BrioDataset(fdir='data/cnndm/diverse/val', model_type='facebook/bart-base', max_len= 120, total_len=1024, max_num = 2, is_sorted=False)"
   ]
  },
  {
   "cell_type": "code",
   "execution_count": 5,
   "metadata": {},
   "outputs": [],
   "source": [
    "collate_fn = partial(collate_mp_brio, pad_token_id=tok.pad_token_id, is_test=False)\n",
    "collate_fn_val = partial(collate_mp_brio, pad_token_id=tok.pad_token_id, is_test=True)"
   ]
  },
  {
   "cell_type": "code",
   "execution_count": 6,
   "metadata": {},
   "outputs": [],
   "source": [
    "dataloader = DataLoader(train_set, batch_size=4, shuffle=True,  num_workers=2, collate_fn=collate_fn)\n",
    "val_loader = DataLoader(val_set  , batch_size=1, shuffle=False, num_workers=2, collate_fn=collate_fn_val)"
   ]
  },
  {
   "cell_type": "code",
   "execution_count": 7,
   "metadata": {},
   "outputs": [],
   "source": [
    "from BRIO.model import BRIO, RankingLoss"
   ]
  },
  {
   "cell_type": "code",
   "execution_count": 8,
   "metadata": {},
   "outputs": [
    {
     "data": {
      "application/vnd.jupyter.widget-view+json": {
       "model_id": "c71dd6692a2f42ef8b41a633cb6286e6",
       "version_major": 2,
       "version_minor": 0
      },
      "text/plain": [
       "config.json:   0%|          | 0.00/1.72k [00:00<?, ?B/s]"
      ]
     },
     "metadata": {},
     "output_type": "display_data"
    },
    {
     "data": {
      "application/vnd.jupyter.widget-view+json": {
       "model_id": "b81dd7578409427181e116229fb78146",
       "version_major": 2,
       "version_minor": 0
      },
      "text/plain": [
       "model.safetensors:   0%|          | 0.00/558M [00:00<?, ?B/s]"
      ]
     },
     "metadata": {},
     "output_type": "display_data"
    }
   ],
   "source": [
    "model = BRIO(mname='facebook/bart-base', pad_token_id=tok.pad_token_id)"
   ]
  },
  {
   "cell_type": "code",
   "execution_count": 9,
   "metadata": {},
   "outputs": [],
   "source": [
    "model = model.to(device)\n",
    "model.train()\n",
    "model.scoring_mode()"
   ]
  },
  {
   "cell_type": "code",
   "execution_count": 10,
   "metadata": {},
   "outputs": [],
   "source": [
    "from BRIO.label_smoothing_loss import label_smoothing_loss\n",
    "mle_fn = label_smoothing_loss(ignore_index=tok.pad_token_id, epsilon=0.1)\n",
    "\n",
    "s_optimizer = optim.Adam(model.parameters())\n",
    "min_rank_loss = 100\n",
    "min_mle_loss = 1e5\n",
    "all_step_cnt = 0\n",
    "\n",
    "def eval_fn(rouge1, rouge2, rougeLsum):\n",
    "    return 1 - (rouge1 * rouge2 + rougeLsum) / 3"
   ]
  },
  {
   "cell_type": "code",
   "execution_count": 11,
   "metadata": {},
   "outputs": [],
   "source": [
    "epochs = 3\n",
    "scale = 1\n",
    "accumulate_step = 10\n",
    "max_lr = 2e-3\n",
    "warmup_steps = 10000"
   ]
  },
  {
   "cell_type": "code",
   "execution_count": 12,
   "metadata": {},
   "outputs": [],
   "source": [
    "for epoch in range(epochs):\n",
    "    s_optimizer.zero_grad()\n",
    "    avg_ranking_loss = 0\n",
    "    avg_mle_loss = 0\n",
    "    step_cnt = 0\n",
    "    epoch_step = 0\n",
    "    epoch_step = 0\n",
    "    avg_loss = 0\n",
    "    for (i, batch) in enumerate(dataloader):\n",
    "        src_input_ids = batch['src_input_ids'].to(device)\n",
    "        candidate_ids = batch['candidate_ids'].to(device)\n",
    "        output = model(src_input_ids, candidate_ids, normalize=True, score_mode=\"log\", length_penalty=2.0, adding = 0)\n",
    "        \n",
    "        similarity, gold_similarity = output['score'], output['summary_score']\n",
    "        similarity = similarity*scale\n",
    "        gold_similarity = gold_similarity*scale\n",
    "        ranking_loss = RankingLoss(similarity, gold_similarity, margin=0.001, gold_margin=0, gold_weight=0)\n",
    "\n",
    "        probs = output['probs'][:, :-1]\n",
    "        gold = batch['candidate_ids'][:, 0, 1:].to(device)\n",
    "        mle_loss = mle_fn(probs.transpose(1, 2), gold)\n",
    "\n",
    "        loss = 0.1 * mle_loss + 100 * ranking_loss\n",
    "        # record the loss\n",
    "        avg_loss += loss.item() / accumulate_step\n",
    "        avg_mle_loss += mle_loss.item() / accumulate_step\n",
    "        avg_ranking_loss += ranking_loss.item() / accumulate_step\n",
    "\n",
    "        # accumulate the loss\n",
    "        loss = loss / accumulate_step\n",
    "        loss.backward()\n",
    "        if step_cnt == accumulate_step:\n",
    "            step_cnt = 0\n",
    "            epoch_step += 1\n",
    "            all_step_cnt += 1\n",
    "\n",
    "            lr = max_lr * min(all_step_cnt ** (-0.5), all_step_cnt * (warmup_steps ** (-1.5)))\n",
    "            s_optimizer.step()\n",
    "            s_optimizer.zero_grad()\n",
    "\n",
    "        del similarity, gold_similarity, loss, mle_loss, ranking_loss, output, probs\n",
    "        torch.cuda.empty_cache()"
   ]
  },
  {
   "cell_type": "code",
   "execution_count": null,
   "metadata": {},
   "outputs": [],
   "source": []
  }
 ],
 "metadata": {
  "kernelspec": {
   "display_name": "Python 3",
   "language": "python",
   "name": "python3"
  },
  "language_info": {
   "codemirror_mode": {
    "name": "ipython",
    "version": 3
   },
   "file_extension": ".py",
   "mimetype": "text/x-python",
   "name": "python",
   "nbconvert_exporter": "python",
   "pygments_lexer": "ipython3",
   "version": "3.10.12"
  }
 },
 "nbformat": 4,
 "nbformat_minor": 2
}
