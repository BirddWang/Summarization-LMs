{
 "cells": [
  {
   "cell_type": "code",
   "execution_count": 1,
   "metadata": {},
   "outputs": [],
   "source": [
    "from openai import OpenAI\n",
    "import os\n",
    "import json\n",
    "import time\n",
    "\n",
    "from secret import OPENAI_API_KEY\n",
    "client = OpenAI(api_key=OPENAI_API_KEY)"
   ]
  },
  {
   "cell_type": "code",
   "execution_count": null,
   "metadata": {},
   "outputs": [],
   "source": [
    "SUMMARY_STEP_BY_STEP = \"\"\"Given a document, do the following steps:\n",
    "(1) According to the document, identify the key information.\n",
    "(2) Extract Main Points from the document.\n",
    "(3) Extract the supporting details for the main points.\n",
    "(4) with the supporting details, compose a summary of the document in three sentences.\n",
    "\n",
    "Example:\n",
    "=====Example=====\n",
    "Prompt:\n",
    "Document: [document]\n",
    "Update:\n",
    "Key Infdormation: [key information]\n",
    "\n",
    "Main Points:\n",
    "1. [main point 1]\n",
    "2. [main point 2]\n",
    "3. ...\n",
    "\n",
    "Supporting Details:\n",
    "1. [supporting details 1]\n",
    "2. [supporting details 2]\n",
    "3. ...\n",
    "\n",
    "Summary:\n",
    "[summary]\n",
    "================\n",
    "\"\"\""
   ]
  },
  {
   "cell_type": "code",
   "execution_count": 4,
   "metadata": {},
   "outputs": [],
   "source": [
    "def _distill_gpt(document, mname=\"gpt-3.5-turbo\", max_token=1024, temperature=0):\n",
    "    prompt = f\"\"\n",
    "    \n",
    "    response = client.chat.completions.create(\n",
    "        model=mname,\n",
    "        messages = [\n",
    "            {\"role\": \"user\", \"content\": prompt}\n",
    "        ],\n",
    "        temperature=temperature,\n",
    "        max_tokens=max_token,\n",
    "    )\n",
    "    return response.choices[0].message.content"
   ]
  },
  {
   "cell_type": "code",
   "execution_count": 6,
   "metadata": {},
   "outputs": [],
   "source": [
    "def _load_jsonl(file_path):\n",
    "    with open(file_path, \"r\") as f:\n",
    "        return [json.loads(line) for line in f.readlines()]"
   ]
  },
  {
   "cell_type": "code",
   "execution_count": null,
   "metadata": {},
   "outputs": [],
   "source": []
  }
 ],
 "metadata": {
  "kernelspec": {
   "display_name": "Python 3",
   "language": "python",
   "name": "python3"
  },
  "language_info": {
   "codemirror_mode": {
    "name": "ipython",
    "version": 3
   },
   "file_extension": ".py",
   "mimetype": "text/x-python",
   "name": "python",
   "nbconvert_exporter": "python",
   "pygments_lexer": "ipython3",
   "version": "3.10.12"
  }
 },
 "nbformat": 4,
 "nbformat_minor": 2
}
